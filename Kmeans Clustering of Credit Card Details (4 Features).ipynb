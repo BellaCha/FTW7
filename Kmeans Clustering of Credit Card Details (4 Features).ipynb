{
 "cells": [
  {
   "cell_type": "code",
   "execution_count": 1,
   "metadata": {
    "colab": {},
    "colab_type": "code",
    "id": "lc-uZ_ZhN44k"
   },
   "outputs": [],
   "source": [
    "import pandas as pd\n",
    "import numpy as np\n",
    "import matplotlib.pyplot as plt\n",
    "import seaborn as sns\n",
    "import pandas_profiling as pp"
   ]
  },
  {
   "cell_type": "markdown",
   "metadata": {
    "colab_type": "text",
    "id": "LheBPT9zOi03"
   },
   "source": [
    "### Load Data"
   ]
  },
  {
   "cell_type": "code",
   "execution_count": 2,
   "metadata": {
    "colab": {},
    "colab_type": "code",
    "id": "JXDvb0xDOQ98"
   },
   "outputs": [],
   "source": [
    "data = pd.read_csv(\"credit_card_clustering.csv\")\n"
   ]
  },
  {
   "cell_type": "code",
   "execution_count": 3,
   "metadata": {},
   "outputs": [
    {
     "data": {
      "text/html": [
       "<div>\n",
       "<style scoped>\n",
       "    .dataframe tbody tr th:only-of-type {\n",
       "        vertical-align: middle;\n",
       "    }\n",
       "\n",
       "    .dataframe tbody tr th {\n",
       "        vertical-align: top;\n",
       "    }\n",
       "\n",
       "    .dataframe thead th {\n",
       "        text-align: right;\n",
       "    }\n",
       "</style>\n",
       "<table border=\"1\" class=\"dataframe\">\n",
       "  <thead>\n",
       "    <tr style=\"text-align: right;\">\n",
       "      <th></th>\n",
       "      <th>CUST_ID</th>\n",
       "      <th>BALANCE</th>\n",
       "      <th>BALANCE_FREQUENCY</th>\n",
       "      <th>PURCHASES</th>\n",
       "      <th>ONEOFF_PURCHASES</th>\n",
       "      <th>INSTALLMENTS_PURCHASES</th>\n",
       "      <th>CASH_ADVANCE</th>\n",
       "      <th>PURCHASES_FREQUENCY</th>\n",
       "      <th>ONEOFF_PURCHASES_FREQUENCY</th>\n",
       "      <th>PURCHASES_INSTALLMENTS_FREQUENCY</th>\n",
       "      <th>CASH_ADVANCE_FREQUENCY</th>\n",
       "      <th>CASH_ADVANCE_TRX</th>\n",
       "      <th>PURCHASES_TRX</th>\n",
       "      <th>CREDIT_LIMIT</th>\n",
       "      <th>PAYMENTS</th>\n",
       "      <th>MINIMUM_PAYMENTS</th>\n",
       "      <th>PRC_FULL_PAYMENT</th>\n",
       "      <th>TENURE</th>\n",
       "    </tr>\n",
       "  </thead>\n",
       "  <tbody>\n",
       "    <tr>\n",
       "      <td>0</td>\n",
       "      <td>C10001</td>\n",
       "      <td>40.900749</td>\n",
       "      <td>0.818182</td>\n",
       "      <td>95.40</td>\n",
       "      <td>0.00</td>\n",
       "      <td>95.4</td>\n",
       "      <td>0.000000</td>\n",
       "      <td>0.166667</td>\n",
       "      <td>0.000000</td>\n",
       "      <td>0.083333</td>\n",
       "      <td>0.000000</td>\n",
       "      <td>0</td>\n",
       "      <td>2</td>\n",
       "      <td>1000.0</td>\n",
       "      <td>201.802084</td>\n",
       "      <td>139.509787</td>\n",
       "      <td>0.000000</td>\n",
       "      <td>12</td>\n",
       "    </tr>\n",
       "    <tr>\n",
       "      <td>1</td>\n",
       "      <td>C10002</td>\n",
       "      <td>3202.467416</td>\n",
       "      <td>0.909091</td>\n",
       "      <td>0.00</td>\n",
       "      <td>0.00</td>\n",
       "      <td>0.0</td>\n",
       "      <td>6442.945483</td>\n",
       "      <td>0.000000</td>\n",
       "      <td>0.000000</td>\n",
       "      <td>0.000000</td>\n",
       "      <td>0.250000</td>\n",
       "      <td>4</td>\n",
       "      <td>0</td>\n",
       "      <td>7000.0</td>\n",
       "      <td>4103.032597</td>\n",
       "      <td>1072.340217</td>\n",
       "      <td>0.222222</td>\n",
       "      <td>12</td>\n",
       "    </tr>\n",
       "    <tr>\n",
       "      <td>2</td>\n",
       "      <td>C10003</td>\n",
       "      <td>2495.148862</td>\n",
       "      <td>1.000000</td>\n",
       "      <td>773.17</td>\n",
       "      <td>773.17</td>\n",
       "      <td>0.0</td>\n",
       "      <td>0.000000</td>\n",
       "      <td>1.000000</td>\n",
       "      <td>1.000000</td>\n",
       "      <td>0.000000</td>\n",
       "      <td>0.000000</td>\n",
       "      <td>0</td>\n",
       "      <td>12</td>\n",
       "      <td>7500.0</td>\n",
       "      <td>622.066742</td>\n",
       "      <td>627.284787</td>\n",
       "      <td>0.000000</td>\n",
       "      <td>12</td>\n",
       "    </tr>\n",
       "    <tr>\n",
       "      <td>3</td>\n",
       "      <td>C10004</td>\n",
       "      <td>1666.670542</td>\n",
       "      <td>0.636364</td>\n",
       "      <td>1499.00</td>\n",
       "      <td>1499.00</td>\n",
       "      <td>0.0</td>\n",
       "      <td>205.788017</td>\n",
       "      <td>0.083333</td>\n",
       "      <td>0.083333</td>\n",
       "      <td>0.000000</td>\n",
       "      <td>0.083333</td>\n",
       "      <td>1</td>\n",
       "      <td>1</td>\n",
       "      <td>7500.0</td>\n",
       "      <td>0.000000</td>\n",
       "      <td>NaN</td>\n",
       "      <td>0.000000</td>\n",
       "      <td>12</td>\n",
       "    </tr>\n",
       "    <tr>\n",
       "      <td>4</td>\n",
       "      <td>C10005</td>\n",
       "      <td>817.714335</td>\n",
       "      <td>1.000000</td>\n",
       "      <td>16.00</td>\n",
       "      <td>16.00</td>\n",
       "      <td>0.0</td>\n",
       "      <td>0.000000</td>\n",
       "      <td>0.083333</td>\n",
       "      <td>0.083333</td>\n",
       "      <td>0.000000</td>\n",
       "      <td>0.000000</td>\n",
       "      <td>0</td>\n",
       "      <td>1</td>\n",
       "      <td>1200.0</td>\n",
       "      <td>678.334763</td>\n",
       "      <td>244.791237</td>\n",
       "      <td>0.000000</td>\n",
       "      <td>12</td>\n",
       "    </tr>\n",
       "  </tbody>\n",
       "</table>\n",
       "</div>"
      ],
      "text/plain": [
       "  CUST_ID      BALANCE  BALANCE_FREQUENCY  PURCHASES  ONEOFF_PURCHASES  \\\n",
       "0  C10001    40.900749           0.818182      95.40              0.00   \n",
       "1  C10002  3202.467416           0.909091       0.00              0.00   \n",
       "2  C10003  2495.148862           1.000000     773.17            773.17   \n",
       "3  C10004  1666.670542           0.636364    1499.00           1499.00   \n",
       "4  C10005   817.714335           1.000000      16.00             16.00   \n",
       "\n",
       "   INSTALLMENTS_PURCHASES  CASH_ADVANCE  PURCHASES_FREQUENCY  \\\n",
       "0                    95.4      0.000000             0.166667   \n",
       "1                     0.0   6442.945483             0.000000   \n",
       "2                     0.0      0.000000             1.000000   \n",
       "3                     0.0    205.788017             0.083333   \n",
       "4                     0.0      0.000000             0.083333   \n",
       "\n",
       "   ONEOFF_PURCHASES_FREQUENCY  PURCHASES_INSTALLMENTS_FREQUENCY  \\\n",
       "0                    0.000000                          0.083333   \n",
       "1                    0.000000                          0.000000   \n",
       "2                    1.000000                          0.000000   \n",
       "3                    0.083333                          0.000000   \n",
       "4                    0.083333                          0.000000   \n",
       "\n",
       "   CASH_ADVANCE_FREQUENCY  CASH_ADVANCE_TRX  PURCHASES_TRX  CREDIT_LIMIT  \\\n",
       "0                0.000000                 0              2        1000.0   \n",
       "1                0.250000                 4              0        7000.0   \n",
       "2                0.000000                 0             12        7500.0   \n",
       "3                0.083333                 1              1        7500.0   \n",
       "4                0.000000                 0              1        1200.0   \n",
       "\n",
       "      PAYMENTS  MINIMUM_PAYMENTS  PRC_FULL_PAYMENT  TENURE  \n",
       "0   201.802084        139.509787          0.000000      12  \n",
       "1  4103.032597       1072.340217          0.222222      12  \n",
       "2   622.066742        627.284787          0.000000      12  \n",
       "3     0.000000               NaN          0.000000      12  \n",
       "4   678.334763        244.791237          0.000000      12  "
      ]
     },
     "execution_count": 3,
     "metadata": {},
     "output_type": "execute_result"
    }
   ],
   "source": [
    "data.head()"
   ]
  },
  {
   "cell_type": "code",
   "execution_count": 4,
   "metadata": {},
   "outputs": [
    {
     "data": {
      "text/plain": [
       "Index(['CUST_ID', 'BALANCE', 'BALANCE_FREQUENCY', 'PURCHASES',\n",
       "       'ONEOFF_PURCHASES', 'INSTALLMENTS_PURCHASES', 'CASH_ADVANCE',\n",
       "       'PURCHASES_FREQUENCY', 'ONEOFF_PURCHASES_FREQUENCY',\n",
       "       'PURCHASES_INSTALLMENTS_FREQUENCY', 'CASH_ADVANCE_FREQUENCY',\n",
       "       'CASH_ADVANCE_TRX', 'PURCHASES_TRX', 'CREDIT_LIMIT', 'PAYMENTS',\n",
       "       'MINIMUM_PAYMENTS', 'PRC_FULL_PAYMENT', 'TENURE'],\n",
       "      dtype='object')"
      ]
     },
     "execution_count": 4,
     "metadata": {},
     "output_type": "execute_result"
    }
   ],
   "source": [
    "data.columns"
   ]
  },
  {
   "cell_type": "markdown",
   "metadata": {
    "colab_type": "text",
    "id": "UTTRZFQJQmXC"
   },
   "source": [
    " Exploratory Data Profiling/Analysis"
   ]
  },
  {
   "cell_type": "code",
   "execution_count": 5,
   "metadata": {
    "colab": {
     "base_uri": "https://localhost:8080/",
     "height": 72
    },
    "colab_type": "code",
    "id": "Q1jhJOhXe45e",
    "outputId": "1a04b708-045c-433d-f306-789a90c71784"
   },
   "outputs": [],
   "source": [
    "#report = pp.ProfileReport(data)"
   ]
  },
  {
   "cell_type": "code",
   "execution_count": 6,
   "metadata": {
    "colab": {},
    "colab_type": "code",
    "id": "TQnsVzFQe5Sz"
   },
   "outputs": [],
   "source": [
    "#report.to_file('CreditcardData.html')"
   ]
  },
  {
   "cell_type": "markdown",
   "metadata": {
    "colab_type": "text",
    "id": "qvz1x9KfO3jt"
   },
   "source": [
    "### How many rows/columns are there?"
   ]
  },
  {
   "cell_type": "code",
   "execution_count": 7,
   "metadata": {
    "colab": {
     "base_uri": "https://localhost:8080/",
     "height": 34
    },
    "colab_type": "code",
    "id": "DWzrWlMaO5_j",
    "outputId": "5fb8bbbd-adb0-4fd3-db84-a47d7cf88d63"
   },
   "outputs": [
    {
     "data": {
      "text/plain": [
       "(8950, 18)"
      ]
     },
     "execution_count": 7,
     "metadata": {},
     "output_type": "execute_result"
    }
   ],
   "source": [
    "data.shape"
   ]
  },
  {
   "cell_type": "markdown",
   "metadata": {
    "colab_type": "text",
    "id": "0pxHHHgNOWGR"
   },
   "source": [
    "### How many customers are there?"
   ]
  },
  {
   "cell_type": "code",
   "execution_count": 8,
   "metadata": {
    "colab": {
     "base_uri": "https://localhost:8080/",
     "height": 34
    },
    "colab_type": "code",
    "id": "9ZmesyD9Onuq",
    "outputId": "3ca0eba3-64ae-4c5d-cc34-c9f36382143c"
   },
   "outputs": [
    {
     "data": {
      "text/plain": [
       "8950"
      ]
     },
     "execution_count": 8,
     "metadata": {},
     "output_type": "execute_result"
    }
   ],
   "source": [
    "data['CUST_ID'].nunique()\n"
   ]
  },
  {
   "cell_type": "markdown",
   "metadata": {
    "colab_type": "text",
    "id": "iU-MbVEVOwOt"
   },
   "source": [
    "This means, we have 8950 unique customer IDs"
   ]
  },
  {
   "cell_type": "markdown",
   "metadata": {
    "colab_type": "text",
    "id": "mLflskPqPQbO"
   },
   "source": [
    "### How does the payment distribution of our customers look like?"
   ]
  },
  {
   "cell_type": "markdown",
   "metadata": {
    "colab_type": "text",
    "id": "XJb_1fPLPZjh"
   },
   "source": [
    "Descriptive Statistics"
   ]
  },
  {
   "cell_type": "code",
   "execution_count": 9,
   "metadata": {
    "colab": {
     "base_uri": "https://localhost:8080/",
     "height": 272
    },
    "colab_type": "code",
    "id": "A0vs8-PiPcYN",
    "outputId": "e3fe23b1-bc24-4003-8018-cef900781ea1"
   },
   "outputs": [
    {
     "data": {
      "text/plain": [
       "count     8950.000000\n",
       "mean      1733.143852\n",
       "std       2895.063757\n",
       "min          0.000000\n",
       "10%        179.617069\n",
       "20%        313.141031\n",
       "30%        459.438287\n",
       "40%        624.268198\n",
       "50%        856.901546\n",
       "60%       1185.259270\n",
       "70%       1604.092113\n",
       "80%       2314.017654\n",
       "90%       3923.906642\n",
       "max      50721.483360\n",
       "Name: PAYMENTS, dtype: float64"
      ]
     },
     "execution_count": 9,
     "metadata": {},
     "output_type": "execute_result"
    }
   ],
   "source": [
    "data['PAYMENTS'].describe(np.arange(0.1, 1, 0.1))"
   ]
  },
  {
   "cell_type": "markdown",
   "metadata": {
    "colab_type": "text",
    "id": "43REfwTpPhQh"
   },
   "source": [
    "The annual income ranges from 0 to 19043 with an average (median) balance is 873."
   ]
  },
  {
   "cell_type": "code",
   "execution_count": 10,
   "metadata": {
    "colab": {
     "base_uri": "https://localhost:8080/",
     "height": 296
    },
    "colab_type": "code",
    "id": "EL7nIQRzPUKr",
    "outputId": "65a008df-5992-487b-a7ef-cbb5d570c6c8"
   },
   "outputs": [
    {
     "data": {
      "text/plain": [
       "<matplotlib.axes._subplots.AxesSubplot at 0x22a9ec27d08>"
      ]
     },
     "execution_count": 10,
     "metadata": {},
     "output_type": "execute_result"
    },
    {
     "data": {
      "image/png": "[encoded data removed]",
      "text/plain": [
       "<Figure size 432x288 with 1 Axes>"
      ]
     },
     "metadata": {
      "needs_background": "light"
     },
     "output_type": "display_data"
    }
   ],
   "source": [
    "sns.distplot(data['PAYMENTS'], kde=False)"
   ]
  },
  {
   "cell_type": "markdown",
   "metadata": {
    "colab_type": "text",
    "id": "IUJEe9cDPX0m"
   },
   "source": [
    "### How does the purchases distribution look like?"
   ]
  },
  {
   "cell_type": "code",
   "execution_count": 11,
   "metadata": {
    "colab": {
     "base_uri": "https://localhost:8080/",
     "height": 272
    },
    "colab_type": "code",
    "id": "2D4DO4vYQZmX",
    "outputId": "da66d4f3-06aa-4b81-e5fc-93723f15e62c"
   },
   "outputs": [
    {
     "data": {
      "text/plain": [
       "count     8950.000000\n",
       "mean      1003.204834\n",
       "std       2136.634782\n",
       "min          0.000000\n",
       "10%          0.000000\n",
       "20%          0.000000\n",
       "30%         89.285000\n",
       "40%        212.850000\n",
       "50%        361.280000\n",
       "60%        557.546000\n",
       "70%        894.316000\n",
       "80%       1422.438000\n",
       "90%       2542.624000\n",
       "max      49039.570000\n",
       "Name: PURCHASES, dtype: float64"
      ]
     },
     "execution_count": 11,
     "metadata": {},
     "output_type": "execute_result"
    }
   ],
   "source": [
    "data['PURCHASES'].describe(np.arange(0.1, 1, 0.1))"
   ]
  },
  {
   "cell_type": "code",
   "execution_count": 12,
   "metadata": {
    "colab": {
     "base_uri": "https://localhost:8080/",
     "height": 296
    },
    "colab_type": "code",
    "id": "MjgtlSe8QdGO",
    "outputId": "c3393283-44a0-43b0-d572-e49bf1d43c9c"
   },
   "outputs": [
    {
     "data": {
      "text/plain": [
       "<matplotlib.axes._subplots.AxesSubplot at 0x22a9f34bb48>"
      ]
     },
     "execution_count": 12,
     "metadata": {},
     "output_type": "execute_result"
    },
    {
     "data": {
      "image/png": "[encoded data removed]",
      "text/plain": [
       "<Figure size 432x288 with 1 Axes>"
      ]
     },
     "metadata": {
      "needs_background": "light"
     },
     "output_type": "display_data"
    }
   ],
   "source": [
    "sns.distplot(data['BALANCE'], kde=False)"
   ]
  },
  {
   "cell_type": "markdown",
   "metadata": {
    "colab_type": "text",
    "id": "gJzKWhQ_Qfvx"
   },
   "source": [
    "### How does the balances distribution look like?"
   ]
  },
  {
   "cell_type": "code",
   "execution_count": 13,
   "metadata": {},
   "outputs": [
    {
     "data": {
      "text/plain": [
       "count     8950.000000\n",
       "mean      1564.474828\n",
       "std       2081.531879\n",
       "min          0.000000\n",
       "10%         23.575529\n",
       "20%         77.238026\n",
       "30%        207.176552\n",
       "40%        467.021989\n",
       "50%        873.385231\n",
       "60%       1207.815587\n",
       "70%       1698.588855\n",
       "80%       2571.434263\n",
       "90%       4338.563657\n",
       "max      19043.138560\n",
       "Name: BALANCE, dtype: float64"
      ]
     },
     "execution_count": 13,
     "metadata": {},
     "output_type": "execute_result"
    }
   ],
   "source": [
    "data['BALANCE'].describe(np.arange(0.1, 1, 0.1))"
   ]
  },
  {
   "cell_type": "code",
   "execution_count": 14,
   "metadata": {},
   "outputs": [
    {
     "data": {
      "text/plain": [
       "<matplotlib.axes._subplots.AxesSubplot at 0x22a9f4bc588>"
      ]
     },
     "execution_count": 14,
     "metadata": {},
     "output_type": "execute_result"
    },
    {
     "data": {
      "image/png": "[encoded data removed]",
      "text/plain": [
       "<Figure size 432x288 with 1 Axes>"
      ]
     },
     "metadata": {
      "needs_background": "light"
     },
     "output_type": "display_data"
    }
   ],
   "source": [
    "sns.distplot(data['BALANCE'], kde=False)"
   ]
  },
  {
   "cell_type": "markdown",
   "metadata": {},
   "source": [
    "### How does the CREDIT distribution look like?"
   ]
  },
  {
   "cell_type": "code",
   "execution_count": 15,
   "metadata": {},
   "outputs": [
    {
     "data": {
      "text/plain": [
       "count     8950.000000\n",
       "mean      4494.282473\n",
       "std       3638.646702\n",
       "min         50.000000\n",
       "10%       1200.000000\n",
       "20%       1500.000000\n",
       "30%       2000.000000\n",
       "40%       2500.000000\n",
       "50%       3000.000000\n",
       "60%       4200.000000\n",
       "70%       6000.000000\n",
       "80%       7000.000000\n",
       "90%       9500.000000\n",
       "max      30000.000000\n",
       "Name: CREDIT_LIMIT, dtype: float64"
      ]
     },
     "execution_count": 15,
     "metadata": {},
     "output_type": "execute_result"
    }
   ],
   "source": [
    "data['CREDIT_LIMIT'].describe(np.arange(0.1, 1, 0.1))"
   ]
  },
  {
   "cell_type": "code",
   "execution_count": 16,
   "metadata": {},
   "outputs": [],
   "source": [
    "data['CREDIT_LIMIT'].fillna(3000,inplace=True) #Missing value insert median value"
   ]
  },
  {
   "cell_type": "code",
   "execution_count": 17,
   "metadata": {},
   "outputs": [
    {
     "data": {
      "text/plain": [
       "<matplotlib.axes._subplots.AxesSubplot at 0x22a9f5c68c8>"
      ]
     },
     "execution_count": 17,
     "metadata": {},
     "output_type": "execute_result"
    },
    {
     "data": {
      "image/png": "[encoded data removed]",
      "text/plain": [
       "<Figure size 432x288 with 1 Axes>"
      ]
     },
     "metadata": {
      "needs_background": "light"
     },
     "output_type": "display_data"
    }
   ],
   "source": [
    "sns.distplot(data['CREDIT_LIMIT'], kde=False)"
   ]
  },
  {
   "cell_type": "markdown",
   "metadata": {
    "colab_type": "text",
    "id": "rulXVROOQktg"
   },
   "source": [
    "# Clustering"
   ]
  },
  {
   "cell_type": "code",
   "execution_count": 18,
   "metadata": {
    "colab": {},
    "colab_type": "code",
    "id": "eh6RPPyKQqbo"
   },
   "outputs": [],
   "source": [
    "from sklearn.cluster import KMeans"
   ]
  },
  {
   "cell_type": "code",
   "execution_count": 19,
   "metadata": {
    "colab": {
     "base_uri": "https://localhost:8080/",
     "height": 204
    },
    "colab_type": "code",
    "id": "8IL-NAPHXfqY",
    "outputId": "dd816c00-1ba5-4e34-9f23-86ac1579aea9"
   },
   "outputs": [
    {
     "data": {
      "text/html": [
       "<div>\n",
       "<style scoped>\n",
       "    .dataframe tbody tr th:only-of-type {\n",
       "        vertical-align: middle;\n",
       "    }\n",
       "\n",
       "    .dataframe tbody tr th {\n",
       "        vertical-align: top;\n",
       "    }\n",
       "\n",
       "    .dataframe thead th {\n",
       "        text-align: right;\n",
       "    }\n",
       "</style>\n",
       "<table border=\"1\" class=\"dataframe\">\n",
       "  <thead>\n",
       "    <tr style=\"text-align: right;\">\n",
       "      <th></th>\n",
       "      <th>CREDIT_LIMIT</th>\n",
       "      <th>PURCHASES</th>\n",
       "      <th>PAYMENTS</th>\n",
       "      <th>BALANCE</th>\n",
       "    </tr>\n",
       "  </thead>\n",
       "  <tbody>\n",
       "    <tr>\n",
       "      <td>0</td>\n",
       "      <td>1000.0</td>\n",
       "      <td>95.40</td>\n",
       "      <td>201.802084</td>\n",
       "      <td>40.900749</td>\n",
       "    </tr>\n",
       "    <tr>\n",
       "      <td>1</td>\n",
       "      <td>7000.0</td>\n",
       "      <td>0.00</td>\n",
       "      <td>4103.032597</td>\n",
       "      <td>3202.467416</td>\n",
       "    </tr>\n",
       "    <tr>\n",
       "      <td>2</td>\n",
       "      <td>7500.0</td>\n",
       "      <td>773.17</td>\n",
       "      <td>622.066742</td>\n",
       "      <td>2495.148862</td>\n",
       "    </tr>\n",
       "    <tr>\n",
       "      <td>3</td>\n",
       "      <td>7500.0</td>\n",
       "      <td>1499.00</td>\n",
       "      <td>0.000000</td>\n",
       "      <td>1666.670542</td>\n",
       "    </tr>\n",
       "    <tr>\n",
       "      <td>4</td>\n",
       "      <td>1200.0</td>\n",
       "      <td>16.00</td>\n",
       "      <td>678.334763</td>\n",
       "      <td>817.714335</td>\n",
       "    </tr>\n",
       "  </tbody>\n",
       "</table>\n",
       "</div>"
      ],
      "text/plain": [
       "   CREDIT_LIMIT  PURCHASES     PAYMENTS      BALANCE\n",
       "0        1000.0      95.40   201.802084    40.900749\n",
       "1        7000.0       0.00  4103.032597  3202.467416\n",
       "2        7500.0     773.17   622.066742  2495.148862\n",
       "3        7500.0    1499.00     0.000000  1666.670542\n",
       "4        1200.0      16.00   678.334763   817.714335"
      ]
     },
     "execution_count": 19,
     "metadata": {},
     "output_type": "execute_result"
    }
   ],
   "source": [
    "# Get features we need\n",
    "features = ['CREDIT_LIMIT', 'PURCHASES','PAYMENTS','BALANCE']\n",
    "X = data[features]\n",
    "\n",
    "# Convert categorical to numeric\n",
    "# X = pd.get_dummies(X_raw)\n",
    "# X_raw.head()\n",
    "\n",
    "X.head()"
   ]
  },
  {
   "cell_type": "code",
   "execution_count": 20,
   "metadata": {
    "colab": {
     "base_uri": "https://localhost:8080/",
     "height": 296
    },
    "colab_type": "code",
    "id": "WqkkvA3faEuF",
    "outputId": "2c0332e5-c9d7-4048-d6c1-2b68da62be1f",
    "scrolled": true
   },
   "outputs": [
    {
     "data": {
      "text/plain": [
       "<matplotlib.axes._subplots.AxesSubplot at 0x22a9f6e0a08>"
      ]
     },
     "execution_count": 20,
     "metadata": {},
     "output_type": "execute_result"
    },
    {
     "data": {
      "image/png": "[encoded data removed]",
      "text/plain": [
       "<Figure size 432x288 with 1 Axes>"
      ]
     },
     "metadata": {
      "needs_background": "light"
     },
     "output_type": "display_data"
    }
   ],
   "source": [
    "# If you have 2 features, you can plot it on a 2D scatter plot\n",
    "X.plot.scatter('CREDIT_LIMIT', 'PURCHASES')"
   ]
  },
  {
   "cell_type": "markdown",
   "metadata": {
    "colab_type": "text",
    "id": "cYdb620Teh-4"
   },
   "source": [
    "### Choosing Optimal *k*"
   ]
  },
  {
   "cell_type": "code",
   "execution_count": 21,
   "metadata": {
    "colab": {
     "base_uri": "https://localhost:8080/",
     "height": 282
    },
    "colab_type": "code",
    "id": "qe3aWEI0ehjG",
    "outputId": "49d40a6e-80f6-4715-fa5a-b1ee0b416f0c"
   },
   "outputs": [
    {
     "data": {
      "text/plain": [
       "[<matplotlib.lines.Line2D at 0x22aa14f1808>]"
      ]
     },
     "execution_count": 21,
     "metadata": {},
     "output_type": "execute_result"
    },
    {
     "data": {
      "image/png": "[encoded data removed]",
      "text/plain": [
       "<Figure size 432x288 with 1 Axes>"
      ]
     },
     "metadata": {
      "needs_background": "light"
     },
     "output_type": "display_data"
    }
   ],
   "source": [
    "# get the sum of squared errors and find where the reduction of the errors are saturated with the increase of k\n",
    "squared_errors = []\n",
    "\n",
    "for num_iter in range(1,21):\n",
    "  km = KMeans(n_clusters=num_iter, random_state=42)\n",
    "  km.fit(X)\n",
    "  squared_errors.append(km.inertia_)\n",
    "\n",
    "# check for the best k to use\n",
    "plt.plot(squared_errors, marker = 'o')"
   ]
  },
  {
   "cell_type": "markdown",
   "metadata": {
    "colab_type": "text",
    "id": "ZYTzOIoVerNG"
   },
   "source": [
    "Using the elbow method, I decided to use *k=6*."
   ]
  },
  {
   "cell_type": "code",
   "execution_count": 22,
   "metadata": {
    "colab": {},
    "colab_type": "code",
    "id": "l8QUoI4DX7Nf"
   },
   "outputs": [],
   "source": [
    "# Clustering using KMeans. We choose 5 clusters\n",
    "km = KMeans(n_clusters=6, random_state=42)\n",
    "\n",
    "# Fit data to model\n",
    "km.fit(X)\n",
    "\n",
    "# Get labels\n",
    "labels = km.predict(X)\n",
    "\n",
    "# Create new dataframe with features and labels\n",
    "new_data = X.copy()\n",
    "\n",
    "# Add labels to new_data dataframe\n",
    "new_data['labels'] = labels"
   ]
  },
  {
   "cell_type": "code",
   "execution_count": 23,
   "metadata": {
    "colab": {
     "base_uri": "https://localhost:8080/",
     "height": 204
    },
    "colab_type": "code",
    "id": "1gCNHjXlZQBo",
    "outputId": "80e6a287-2879-47bf-c525-4a481c35c769"
   },
   "outputs": [
    {
     "data": {
      "text/html": [
       "<div>\n",
       "<style scoped>\n",
       "    .dataframe tbody tr th:only-of-type {\n",
       "        vertical-align: middle;\n",
       "    }\n",
       "\n",
       "    .dataframe tbody tr th {\n",
       "        vertical-align: top;\n",
       "    }\n",
       "\n",
       "    .dataframe thead th {\n",
       "        text-align: right;\n",
       "    }\n",
       "</style>\n",
       "<table border=\"1\" class=\"dataframe\">\n",
       "  <thead>\n",
       "    <tr style=\"text-align: right;\">\n",
       "      <th></th>\n",
       "      <th>CREDIT_LIMIT</th>\n",
       "      <th>PURCHASES</th>\n",
       "      <th>PAYMENTS</th>\n",
       "      <th>BALANCE</th>\n",
       "      <th>labels</th>\n",
       "    </tr>\n",
       "  </thead>\n",
       "  <tbody>\n",
       "    <tr>\n",
       "      <td>0</td>\n",
       "      <td>1000.0</td>\n",
       "      <td>95.40</td>\n",
       "      <td>201.802084</td>\n",
       "      <td>40.900749</td>\n",
       "      <td>2</td>\n",
       "    </tr>\n",
       "    <tr>\n",
       "      <td>1</td>\n",
       "      <td>7000.0</td>\n",
       "      <td>0.00</td>\n",
       "      <td>4103.032597</td>\n",
       "      <td>3202.467416</td>\n",
       "      <td>1</td>\n",
       "    </tr>\n",
       "    <tr>\n",
       "      <td>2</td>\n",
       "      <td>7500.0</td>\n",
       "      <td>773.17</td>\n",
       "      <td>622.066742</td>\n",
       "      <td>2495.148862</td>\n",
       "      <td>1</td>\n",
       "    </tr>\n",
       "    <tr>\n",
       "      <td>3</td>\n",
       "      <td>7500.0</td>\n",
       "      <td>1499.00</td>\n",
       "      <td>0.000000</td>\n",
       "      <td>1666.670542</td>\n",
       "      <td>1</td>\n",
       "    </tr>\n",
       "    <tr>\n",
       "      <td>4</td>\n",
       "      <td>1200.0</td>\n",
       "      <td>16.00</td>\n",
       "      <td>678.334763</td>\n",
       "      <td>817.714335</td>\n",
       "      <td>2</td>\n",
       "    </tr>\n",
       "  </tbody>\n",
       "</table>\n",
       "</div>"
      ],
      "text/plain": [
       "   CREDIT_LIMIT  PURCHASES     PAYMENTS      BALANCE  labels\n",
       "0        1000.0      95.40   201.802084    40.900749       2\n",
       "1        7000.0       0.00  4103.032597  3202.467416       1\n",
       "2        7500.0     773.17   622.066742  2495.148862       1\n",
       "3        7500.0    1499.00     0.000000  1666.670542       1\n",
       "4        1200.0      16.00   678.334763   817.714335       2"
      ]
     },
     "execution_count": 23,
     "metadata": {},
     "output_type": "execute_result"
    }
   ],
   "source": [
    "new_data.head()"
   ]
  },
  {
   "cell_type": "markdown",
   "metadata": {
    "colab_type": "text",
    "id": "8jGkTtvdbGeO"
   },
   "source": [
    "### Plot Centers and labels"
   ]
  },
  {
   "cell_type": "code",
   "execution_count": 24,
   "metadata": {
    "colab": {
     "base_uri": "https://localhost:8080/",
     "height": 621
    },
    "colab_type": "code",
    "id": "ptvhMiDHZSX2",
    "outputId": "98357a48-1dbf-465a-983c-2f35dba1fc78"
   },
   "outputs": [
    {
     "data": {
      "text/plain": [
       "<matplotlib.collections.PathCollection at 0x22aa1547348>"
      ]
     },
     "execution_count": 24,
     "metadata": {},
     "output_type": "execute_result"
    },
    {
     "data": {
      "image/png": "[encoded data removed]",
      "text/plain": [
       "<Figure size 1440x720 with 2 Axes>"
      ]
     },
     "metadata": {
      "needs_background": "light"
     },
     "output_type": "display_data"
    }
   ],
   "source": [
    "# Plot data points and colorize based on label\n",
    "new_data.plot.scatter(x='PAYMENTS', \n",
    "                      y='PURCHASES', \n",
    "                      c='labels', \n",
    "                      cmap='viridis',\n",
    "                      figsize=(20, 10))\n",
    "\n",
    "# Get cluster centers\n",
    "centers = km.cluster_centers_\n",
    "plt.scatter(centers[:,0],centers[:,1], s=200, color='black')"
   ]
  },
  {
   "cell_type": "markdown",
   "metadata": {
    "colab_type": "text",
    "id": "I-FwRETgaoKT"
   },
   "source": [
    "# Deep Dive to each cluster"
   ]
  },
  {
   "cell_type": "code",
   "execution_count": 25,
   "metadata": {
    "colab": {
     "base_uri": "https://localhost:8080/",
     "height": 297
    },
    "colab_type": "code",
    "id": "DjCzSJYLc6Kv",
    "outputId": "06acd370-f2e4-43ca-b4bb-6c239a7a0301"
   },
   "outputs": [
    {
     "data": {
      "text/html": [
       "<div>\n",
       "<style scoped>\n",
       "    .dataframe tbody tr th:only-of-type {\n",
       "        vertical-align: middle;\n",
       "    }\n",
       "\n",
       "    .dataframe tbody tr th {\n",
       "        vertical-align: top;\n",
       "    }\n",
       "\n",
       "    .dataframe thead th {\n",
       "        text-align: right;\n",
       "    }\n",
       "</style>\n",
       "<table border=\"1\" class=\"dataframe\">\n",
       "  <thead>\n",
       "    <tr style=\"text-align: right;\">\n",
       "      <th></th>\n",
       "      <th>CREDIT_LIMIT</th>\n",
       "      <th>PURCHASES</th>\n",
       "      <th>PAYMENTS</th>\n",
       "      <th>BALANCE</th>\n",
       "      <th>labels</th>\n",
       "    </tr>\n",
       "  </thead>\n",
       "  <tbody>\n",
       "    <tr>\n",
       "      <td>count</td>\n",
       "      <td>25.000000</td>\n",
       "      <td>25.000000</td>\n",
       "      <td>25.000000</td>\n",
       "      <td>25.000000</td>\n",
       "      <td>25.0</td>\n",
       "    </tr>\n",
       "    <tr>\n",
       "      <td>mean</td>\n",
       "      <td>16360.000000</td>\n",
       "      <td>27085.309200</td>\n",
       "      <td>27159.043527</td>\n",
       "      <td>5351.546106</td>\n",
       "      <td>0.0</td>\n",
       "    </tr>\n",
       "    <tr>\n",
       "      <td>std</td>\n",
       "      <td>5626.425745</td>\n",
       "      <td>8459.048271</td>\n",
       "      <td>9708.374234</td>\n",
       "      <td>4235.586482</td>\n",
       "      <td>0.0</td>\n",
       "    </tr>\n",
       "    <tr>\n",
       "      <td>min</td>\n",
       "      <td>7500.000000</td>\n",
       "      <td>12551.950000</td>\n",
       "      <td>8760.860264</td>\n",
       "      <td>1268.809031</td>\n",
       "      <td>0.0</td>\n",
       "    </tr>\n",
       "    <tr>\n",
       "      <td>25%</td>\n",
       "      <td>12000.000000</td>\n",
       "      <td>22009.920000</td>\n",
       "      <td>22350.292470</td>\n",
       "      <td>2774.249582</td>\n",
       "      <td>0.0</td>\n",
       "    </tr>\n",
       "    <tr>\n",
       "      <td>50%</td>\n",
       "      <td>17000.000000</td>\n",
       "      <td>25615.070000</td>\n",
       "      <td>26557.097240</td>\n",
       "      <td>3454.094319</td>\n",
       "      <td>0.0</td>\n",
       "    </tr>\n",
       "    <tr>\n",
       "      <td>75%</td>\n",
       "      <td>18000.000000</td>\n",
       "      <td>31299.350000</td>\n",
       "      <td>31698.419020</td>\n",
       "      <td>6372.182817</td>\n",
       "      <td>0.0</td>\n",
       "    </tr>\n",
       "    <tr>\n",
       "      <td>max</td>\n",
       "      <td>30000.000000</td>\n",
       "      <td>49039.570000</td>\n",
       "      <td>50721.483360</td>\n",
       "      <td>19043.138560</td>\n",
       "      <td>0.0</td>\n",
       "    </tr>\n",
       "  </tbody>\n",
       "</table>\n",
       "</div>"
      ],
      "text/plain": [
       "       CREDIT_LIMIT     PURCHASES      PAYMENTS       BALANCE  labels\n",
       "count     25.000000     25.000000     25.000000     25.000000    25.0\n",
       "mean   16360.000000  27085.309200  27159.043527   5351.546106     0.0\n",
       "std     5626.425745   8459.048271   9708.374234   4235.586482     0.0\n",
       "min     7500.000000  12551.950000   8760.860264   1268.809031     0.0\n",
       "25%    12000.000000  22009.920000  22350.292470   2774.249582     0.0\n",
       "50%    17000.000000  25615.070000  26557.097240   3454.094319     0.0\n",
       "75%    18000.000000  31299.350000  31698.419020   6372.182817     0.0\n",
       "max    30000.000000  49039.570000  50721.483360  19043.138560     0.0"
      ]
     },
     "execution_count": 25,
     "metadata": {},
     "output_type": "execute_result"
    }
   ],
   "source": [
    "# Cluster 0\n",
    "cluster_0 = new_data[new_data['labels']==0]\n",
    "cluster_0.describe()"
   ]
  },
  {
   "cell_type": "markdown",
   "metadata": {
    "colab_type": "text",
    "id": "hnXVR-YRdgss"
   },
   "source": [
    "Cluster 0: "
   ]
  },
  {
   "cell_type": "code",
   "execution_count": 26,
   "metadata": {
    "colab": {
     "base_uri": "https://localhost:8080/",
     "height": 297
    },
    "colab_type": "code",
    "id": "GjJcGRJebtu6",
    "outputId": "4b17e145-6e2c-4dd6-cfc1-992b4785ab2b"
   },
   "outputs": [
    {
     "data": {
      "text/html": [
       "<div>\n",
       "<style scoped>\n",
       "    .dataframe tbody tr th:only-of-type {\n",
       "        vertical-align: middle;\n",
       "    }\n",
       "\n",
       "    .dataframe tbody tr th {\n",
       "        vertical-align: top;\n",
       "    }\n",
       "\n",
       "    .dataframe thead th {\n",
       "        text-align: right;\n",
       "    }\n",
       "</style>\n",
       "<table border=\"1\" class=\"dataframe\">\n",
       "  <thead>\n",
       "    <tr style=\"text-align: right;\">\n",
       "      <th></th>\n",
       "      <th>CREDIT_LIMIT</th>\n",
       "      <th>PURCHASES</th>\n",
       "      <th>PAYMENTS</th>\n",
       "      <th>BALANCE</th>\n",
       "      <th>labels</th>\n",
       "    </tr>\n",
       "  </thead>\n",
       "  <tbody>\n",
       "    <tr>\n",
       "      <td>count</td>\n",
       "      <td>2235.000000</td>\n",
       "      <td>2235.000000</td>\n",
       "      <td>2235.000000</td>\n",
       "      <td>2235.000000</td>\n",
       "      <td>2235.0</td>\n",
       "    </tr>\n",
       "    <tr>\n",
       "      <td>mean</td>\n",
       "      <td>6618.271304</td>\n",
       "      <td>868.307195</td>\n",
       "      <td>1261.146427</td>\n",
       "      <td>1889.702293</td>\n",
       "      <td>1.0</td>\n",
       "    </tr>\n",
       "    <tr>\n",
       "      <td>std</td>\n",
       "      <td>1638.906274</td>\n",
       "      <td>979.867195</td>\n",
       "      <td>908.088123</td>\n",
       "      <td>1865.258650</td>\n",
       "      <td>0.0</td>\n",
       "    </tr>\n",
       "    <tr>\n",
       "      <td>min</td>\n",
       "      <td>3800.000000</td>\n",
       "      <td>0.000000</td>\n",
       "      <td>0.000000</td>\n",
       "      <td>0.000000</td>\n",
       "      <td>1.0</td>\n",
       "    </tr>\n",
       "    <tr>\n",
       "      <td>25%</td>\n",
       "      <td>5000.000000</td>\n",
       "      <td>69.400000</td>\n",
       "      <td>594.837364</td>\n",
       "      <td>156.618626</td>\n",
       "      <td>1.0</td>\n",
       "    </tr>\n",
       "    <tr>\n",
       "      <td>50%</td>\n",
       "      <td>6500.000000</td>\n",
       "      <td>502.630000</td>\n",
       "      <td>1064.575065</td>\n",
       "      <td>1384.431318</td>\n",
       "      <td>1.0</td>\n",
       "    </tr>\n",
       "    <tr>\n",
       "      <td>75%</td>\n",
       "      <td>7500.000000</td>\n",
       "      <td>1330.625000</td>\n",
       "      <td>1708.183045</td>\n",
       "      <td>3304.626338</td>\n",
       "      <td>1.0</td>\n",
       "    </tr>\n",
       "    <tr>\n",
       "      <td>max</td>\n",
       "      <td>12000.000000</td>\n",
       "      <td>7597.090000</td>\n",
       "      <td>4613.453210</td>\n",
       "      <td>7295.920263</td>\n",
       "      <td>1.0</td>\n",
       "    </tr>\n",
       "  </tbody>\n",
       "</table>\n",
       "</div>"
      ],
      "text/plain": [
       "       CREDIT_LIMIT    PURCHASES     PAYMENTS      BALANCE  labels\n",
       "count   2235.000000  2235.000000  2235.000000  2235.000000  2235.0\n",
       "mean    6618.271304   868.307195  1261.146427  1889.702293     1.0\n",
       "std     1638.906274   979.867195   908.088123  1865.258650     0.0\n",
       "min     3800.000000     0.000000     0.000000     0.000000     1.0\n",
       "25%     5000.000000    69.400000   594.837364   156.618626     1.0\n",
       "50%     6500.000000   502.630000  1064.575065  1384.431318     1.0\n",
       "75%     7500.000000  1330.625000  1708.183045  3304.626338     1.0\n",
       "max    12000.000000  7597.090000  4613.453210  7295.920263     1.0"
      ]
     },
     "execution_count": 26,
     "metadata": {},
     "output_type": "execute_result"
    }
   ],
   "source": [
    "# Cluster 1 \n",
    "cluster_1 = new_data[new_data['labels']==1]\n",
    "cluster_1.describe()"
   ]
  },
  {
   "cell_type": "markdown",
   "metadata": {
    "colab_type": "text",
    "id": "TAu_kbMvdl0C"
   },
   "source": [
    "Cluster 1: "
   ]
  },
  {
   "cell_type": "code",
   "execution_count": 27,
   "metadata": {
    "colab": {
     "base_uri": "https://localhost:8080/",
     "height": 297
    },
    "colab_type": "code",
    "id": "H5ssZ-z9bvLZ",
    "outputId": "53b97caf-75be-4e8e-90a7-f5a66d6ab789"
   },
   "outputs": [
    {
     "data": {
      "text/html": [
       "<div>\n",
       "<style scoped>\n",
       "    .dataframe tbody tr th:only-of-type {\n",
       "        vertical-align: middle;\n",
       "    }\n",
       "\n",
       "    .dataframe tbody tr th {\n",
       "        vertical-align: top;\n",
       "    }\n",
       "\n",
       "    .dataframe thead th {\n",
       "        text-align: right;\n",
       "    }\n",
       "</style>\n",
       "<table border=\"1\" class=\"dataframe\">\n",
       "  <thead>\n",
       "    <tr style=\"text-align: right;\">\n",
       "      <th></th>\n",
       "      <th>CREDIT_LIMIT</th>\n",
       "      <th>PURCHASES</th>\n",
       "      <th>PAYMENTS</th>\n",
       "      <th>BALANCE</th>\n",
       "      <th>labels</th>\n",
       "    </tr>\n",
       "  </thead>\n",
       "  <tbody>\n",
       "    <tr>\n",
       "      <td>count</td>\n",
       "      <td>5253.000000</td>\n",
       "      <td>5253.000000</td>\n",
       "      <td>5253.000000</td>\n",
       "      <td>5253.000000</td>\n",
       "      <td>5253.0</td>\n",
       "    </tr>\n",
       "    <tr>\n",
       "      <td>mean</td>\n",
       "      <td>2116.147069</td>\n",
       "      <td>494.243092</td>\n",
       "      <td>862.937606</td>\n",
       "      <td>779.637208</td>\n",
       "      <td>2.0</td>\n",
       "    </tr>\n",
       "    <tr>\n",
       "      <td>std</td>\n",
       "      <td>1003.167510</td>\n",
       "      <td>662.419273</td>\n",
       "      <td>892.406693</td>\n",
       "      <td>786.207448</td>\n",
       "      <td>0.0</td>\n",
       "    </tr>\n",
       "    <tr>\n",
       "      <td>min</td>\n",
       "      <td>50.000000</td>\n",
       "      <td>0.000000</td>\n",
       "      <td>0.000000</td>\n",
       "      <td>0.000000</td>\n",
       "      <td>2.0</td>\n",
       "    </tr>\n",
       "    <tr>\n",
       "      <td>25%</td>\n",
       "      <td>1200.000000</td>\n",
       "      <td>13.000000</td>\n",
       "      <td>281.884143</td>\n",
       "      <td>72.188087</td>\n",
       "      <td>2.0</td>\n",
       "    </tr>\n",
       "    <tr>\n",
       "      <td>50%</td>\n",
       "      <td>2000.000000</td>\n",
       "      <td>249.960000</td>\n",
       "      <td>547.239240</td>\n",
       "      <td>545.767741</td>\n",
       "      <td>2.0</td>\n",
       "    </tr>\n",
       "    <tr>\n",
       "      <td>75%</td>\n",
       "      <td>3000.000000</td>\n",
       "      <td>664.510000</td>\n",
       "      <td>1127.028432</td>\n",
       "      <td>1256.819270</td>\n",
       "      <td>2.0</td>\n",
       "    </tr>\n",
       "    <tr>\n",
       "      <td>max</td>\n",
       "      <td>4700.000000</td>\n",
       "      <td>4793.350000</td>\n",
       "      <td>7570.207782</td>\n",
       "      <td>3676.070324</td>\n",
       "      <td>2.0</td>\n",
       "    </tr>\n",
       "  </tbody>\n",
       "</table>\n",
       "</div>"
      ],
      "text/plain": [
       "       CREDIT_LIMIT    PURCHASES     PAYMENTS      BALANCE  labels\n",
       "count   5253.000000  5253.000000  5253.000000  5253.000000  5253.0\n",
       "mean    2116.147069   494.243092   862.937606   779.637208     2.0\n",
       "std     1003.167510   662.419273   892.406693   786.207448     0.0\n",
       "min       50.000000     0.000000     0.000000     0.000000     2.0\n",
       "25%     1200.000000    13.000000   281.884143    72.188087     2.0\n",
       "50%     2000.000000   249.960000   547.239240   545.767741     2.0\n",
       "75%     3000.000000   664.510000  1127.028432  1256.819270     2.0\n",
       "max     4700.000000  4793.350000  7570.207782  3676.070324     2.0"
      ]
     },
     "execution_count": 27,
     "metadata": {},
     "output_type": "execute_result"
    }
   ],
   "source": [
    "# Cluster 2\n",
    "cluster_2 = new_data[new_data['labels']==2]\n",
    "cluster_2.describe()"
   ]
  },
  {
   "cell_type": "markdown",
   "metadata": {
    "colab_type": "text",
    "id": "_5ypez6tdxis"
   },
   "source": [
    "Cluster 2: "
   ]
  },
  {
   "cell_type": "code",
   "execution_count": 28,
   "metadata": {
    "colab": {
     "base_uri": "https://localhost:8080/",
     "height": 297
    },
    "colab_type": "code",
    "id": "-N6iG4cQctfi",
    "outputId": "e6ff3d3d-96f1-4f7b-97d7-8cb441843abd"
   },
   "outputs": [
    {
     "data": {
      "text/html": [
       "<div>\n",
       "<style scoped>\n",
       "    .dataframe tbody tr th:only-of-type {\n",
       "        vertical-align: middle;\n",
       "    }\n",
       "\n",
       "    .dataframe tbody tr th {\n",
       "        vertical-align: top;\n",
       "    }\n",
       "\n",
       "    .dataframe thead th {\n",
       "        text-align: right;\n",
       "    }\n",
       "</style>\n",
       "<table border=\"1\" class=\"dataframe\">\n",
       "  <thead>\n",
       "    <tr style=\"text-align: right;\">\n",
       "      <th></th>\n",
       "      <th>CREDIT_LIMIT</th>\n",
       "      <th>PURCHASES</th>\n",
       "      <th>PAYMENTS</th>\n",
       "      <th>BALANCE</th>\n",
       "      <th>labels</th>\n",
       "    </tr>\n",
       "  </thead>\n",
       "  <tbody>\n",
       "    <tr>\n",
       "      <td>count</td>\n",
       "      <td>106.000000</td>\n",
       "      <td>106.000000</td>\n",
       "      <td>106.000000</td>\n",
       "      <td>106.000000</td>\n",
       "      <td>106.0</td>\n",
       "    </tr>\n",
       "    <tr>\n",
       "      <td>mean</td>\n",
       "      <td>12275.943396</td>\n",
       "      <td>4016.447830</td>\n",
       "      <td>16604.339677</td>\n",
       "      <td>5294.640556</td>\n",
       "      <td>3.0</td>\n",
       "    </tr>\n",
       "    <tr>\n",
       "      <td>std</td>\n",
       "      <td>3749.083895</td>\n",
       "      <td>4762.884234</td>\n",
       "      <td>6330.296383</td>\n",
       "      <td>3833.979575</td>\n",
       "      <td>0.0</td>\n",
       "    </tr>\n",
       "    <tr>\n",
       "      <td>min</td>\n",
       "      <td>2500.000000</td>\n",
       "      <td>0.000000</td>\n",
       "      <td>9290.702248</td>\n",
       "      <td>4.382924</td>\n",
       "      <td>3.0</td>\n",
       "    </tr>\n",
       "    <tr>\n",
       "      <td>25%</td>\n",
       "      <td>10000.000000</td>\n",
       "      <td>0.000000</td>\n",
       "      <td>11718.447388</td>\n",
       "      <td>1913.878565</td>\n",
       "      <td>3.0</td>\n",
       "    </tr>\n",
       "    <tr>\n",
       "      <td>50%</td>\n",
       "      <td>12000.000000</td>\n",
       "      <td>1717.925000</td>\n",
       "      <td>14418.011730</td>\n",
       "      <td>4932.574016</td>\n",
       "      <td>3.0</td>\n",
       "    </tr>\n",
       "    <tr>\n",
       "      <td>75%</td>\n",
       "      <td>15000.000000</td>\n",
       "      <td>7261.115000</td>\n",
       "      <td>19816.130032</td>\n",
       "      <td>7875.778809</td>\n",
       "      <td>3.0</td>\n",
       "    </tr>\n",
       "    <tr>\n",
       "      <td>max</td>\n",
       "      <td>21000.000000</td>\n",
       "      <td>15108.470000</td>\n",
       "      <td>40627.595240</td>\n",
       "      <td>15244.748650</td>\n",
       "      <td>3.0</td>\n",
       "    </tr>\n",
       "  </tbody>\n",
       "</table>\n",
       "</div>"
      ],
      "text/plain": [
       "       CREDIT_LIMIT     PURCHASES      PAYMENTS       BALANCE  labels\n",
       "count    106.000000    106.000000    106.000000    106.000000   106.0\n",
       "mean   12275.943396   4016.447830  16604.339677   5294.640556     3.0\n",
       "std     3749.083895   4762.884234   6330.296383   3833.979575     0.0\n",
       "min     2500.000000      0.000000   9290.702248      4.382924     3.0\n",
       "25%    10000.000000      0.000000  11718.447388   1913.878565     3.0\n",
       "50%    12000.000000   1717.925000  14418.011730   4932.574016     3.0\n",
       "75%    15000.000000   7261.115000  19816.130032   7875.778809     3.0\n",
       "max    21000.000000  15108.470000  40627.595240  15244.748650     3.0"
      ]
     },
     "execution_count": 28,
     "metadata": {},
     "output_type": "execute_result"
    }
   ],
   "source": [
    "# Cluster 3\n",
    "cluster_3 = new_data[new_data['labels']==3]\n",
    "cluster_3.describe()"
   ]
  },
  {
   "cell_type": "markdown",
   "metadata": {
    "colab_type": "text",
    "id": "6AudyQ7Pd1TP"
   },
   "source": [
    "Cluster 3:"
   ]
  },
  {
   "cell_type": "code",
   "execution_count": 29,
   "metadata": {
    "colab": {
     "base_uri": "https://localhost:8080/",
     "height": 297
    },
    "colab_type": "code",
    "id": "u_Kuic6kcvmu",
    "outputId": "d1f9ddf7-ca50-4188-e73d-ce1747d4aa55"
   },
   "outputs": [
    {
     "data": {
      "text/html": [
       "<div>\n",
       "<style scoped>\n",
       "    .dataframe tbody tr th:only-of-type {\n",
       "        vertical-align: middle;\n",
       "    }\n",
       "\n",
       "    .dataframe tbody tr th {\n",
       "        vertical-align: top;\n",
       "    }\n",
       "\n",
       "    .dataframe thead th {\n",
       "        text-align: right;\n",
       "    }\n",
       "</style>\n",
       "<table border=\"1\" class=\"dataframe\">\n",
       "  <thead>\n",
       "    <tr style=\"text-align: right;\">\n",
       "      <th></th>\n",
       "      <th>CREDIT_LIMIT</th>\n",
       "      <th>PURCHASES</th>\n",
       "      <th>PAYMENTS</th>\n",
       "      <th>BALANCE</th>\n",
       "      <th>labels</th>\n",
       "    </tr>\n",
       "  </thead>\n",
       "  <tbody>\n",
       "    <tr>\n",
       "      <td>count</td>\n",
       "      <td>640.000000</td>\n",
       "      <td>640.000000</td>\n",
       "      <td>640.000000</td>\n",
       "      <td>640.000000</td>\n",
       "      <td>640.0</td>\n",
       "    </tr>\n",
       "    <tr>\n",
       "      <td>mean</td>\n",
       "      <td>6290.736269</td>\n",
       "      <td>3375.437391</td>\n",
       "      <td>6117.339187</td>\n",
       "      <td>2066.887493</td>\n",
       "      <td>4.0</td>\n",
       "    </tr>\n",
       "    <tr>\n",
       "      <td>std</td>\n",
       "      <td>2293.265514</td>\n",
       "      <td>2969.531530</td>\n",
       "      <td>2227.399470</td>\n",
       "      <td>1690.493949</td>\n",
       "      <td>0.0</td>\n",
       "    </tr>\n",
       "    <tr>\n",
       "      <td>min</td>\n",
       "      <td>1000.000000</td>\n",
       "      <td>0.000000</td>\n",
       "      <td>1897.437629</td>\n",
       "      <td>0.000000</td>\n",
       "      <td>4.0</td>\n",
       "    </tr>\n",
       "    <tr>\n",
       "      <td>25%</td>\n",
       "      <td>4500.000000</td>\n",
       "      <td>476.090000</td>\n",
       "      <td>4418.922413</td>\n",
       "      <td>606.541548</td>\n",
       "      <td>4.0</td>\n",
       "    </tr>\n",
       "    <tr>\n",
       "      <td>50%</td>\n",
       "      <td>6000.000000</td>\n",
       "      <td>3280.000000</td>\n",
       "      <td>5692.881675</td>\n",
       "      <td>1650.501147</td>\n",
       "      <td>4.0</td>\n",
       "    </tr>\n",
       "    <tr>\n",
       "      <td>75%</td>\n",
       "      <td>8000.000000</td>\n",
       "      <td>5070.042500</td>\n",
       "      <td>7389.546002</td>\n",
       "      <td>3143.836758</td>\n",
       "      <td>4.0</td>\n",
       "    </tr>\n",
       "    <tr>\n",
       "      <td>max</td>\n",
       "      <td>12500.000000</td>\n",
       "      <td>15704.040000</td>\n",
       "      <td>14399.703180</td>\n",
       "      <td>8315.894044</td>\n",
       "      <td>4.0</td>\n",
       "    </tr>\n",
       "  </tbody>\n",
       "</table>\n",
       "</div>"
      ],
      "text/plain": [
       "       CREDIT_LIMIT     PURCHASES      PAYMENTS      BALANCE  labels\n",
       "count    640.000000    640.000000    640.000000   640.000000   640.0\n",
       "mean    6290.736269   3375.437391   6117.339187  2066.887493     4.0\n",
       "std     2293.265514   2969.531530   2227.399470  1690.493949     0.0\n",
       "min     1000.000000      0.000000   1897.437629     0.000000     4.0\n",
       "25%     4500.000000    476.090000   4418.922413   606.541548     4.0\n",
       "50%     6000.000000   3280.000000   5692.881675  1650.501147     4.0\n",
       "75%     8000.000000   5070.042500   7389.546002  3143.836758     4.0\n",
       "max    12500.000000  15704.040000  14399.703180  8315.894044     4.0"
      ]
     },
     "execution_count": 29,
     "metadata": {},
     "output_type": "execute_result"
    }
   ],
   "source": [
    "# Cluster 4\n",
    "cluster_4 = new_data[new_data['labels']==4]\n",
    "cluster_4.describe()"
   ]
  },
  {
   "cell_type": "markdown",
   "metadata": {
    "colab_type": "text",
    "id": "izqksJNBd5sp"
   },
   "source": [
    "Cluster 4: "
   ]
  },
  {
   "cell_type": "code",
   "execution_count": 30,
   "metadata": {
    "colab": {
     "base_uri": "https://localhost:8080/",
     "height": 297
    },
    "colab_type": "code",
    "id": "hOzOwi04ZmDH",
    "outputId": "656c6f27-084c-4f14-ff72-b30c9f13dbad"
   },
   "outputs": [
    {
     "data": {
      "text/html": [
       "<div>\n",
       "<style scoped>\n",
       "    .dataframe tbody tr th:only-of-type {\n",
       "        vertical-align: middle;\n",
       "    }\n",
       "\n",
       "    .dataframe tbody tr th {\n",
       "        vertical-align: top;\n",
       "    }\n",
       "\n",
       "    .dataframe thead th {\n",
       "        text-align: right;\n",
       "    }\n",
       "</style>\n",
       "<table border=\"1\" class=\"dataframe\">\n",
       "  <thead>\n",
       "    <tr style=\"text-align: right;\">\n",
       "      <th></th>\n",
       "      <th>CREDIT_LIMIT</th>\n",
       "      <th>PURCHASES</th>\n",
       "      <th>PAYMENTS</th>\n",
       "      <th>BALANCE</th>\n",
       "      <th>labels</th>\n",
       "    </tr>\n",
       "  </thead>\n",
       "  <tbody>\n",
       "    <tr>\n",
       "      <td>count</td>\n",
       "      <td>691.000000</td>\n",
       "      <td>691.000000</td>\n",
       "      <td>691.000000</td>\n",
       "      <td>691.000000</td>\n",
       "      <td>691.0</td>\n",
       "    </tr>\n",
       "    <tr>\n",
       "      <td>mean</td>\n",
       "      <td>12416.136035</td>\n",
       "      <td>1705.646295</td>\n",
       "      <td>2613.358602</td>\n",
       "      <td>5304.344838</td>\n",
       "      <td>5.0</td>\n",
       "    </tr>\n",
       "    <tr>\n",
       "      <td>std</td>\n",
       "      <td>3055.260985</td>\n",
       "      <td>2205.779249</td>\n",
       "      <td>1874.115849</td>\n",
       "      <td>3575.916222</td>\n",
       "      <td>0.0</td>\n",
       "    </tr>\n",
       "    <tr>\n",
       "      <td>min</td>\n",
       "      <td>7000.000000</td>\n",
       "      <td>0.000000</td>\n",
       "      <td>0.000000</td>\n",
       "      <td>0.488050</td>\n",
       "      <td>5.0</td>\n",
       "    </tr>\n",
       "    <tr>\n",
       "      <td>25%</td>\n",
       "      <td>10000.000000</td>\n",
       "      <td>106.580000</td>\n",
       "      <td>1367.213781</td>\n",
       "      <td>2257.845949</td>\n",
       "      <td>5.0</td>\n",
       "    </tr>\n",
       "    <tr>\n",
       "      <td>50%</td>\n",
       "      <td>12000.000000</td>\n",
       "      <td>878.110000</td>\n",
       "      <td>2034.824228</td>\n",
       "      <td>5693.979714</td>\n",
       "      <td>5.0</td>\n",
       "    </tr>\n",
       "    <tr>\n",
       "      <td>75%</td>\n",
       "      <td>14000.000000</td>\n",
       "      <td>2468.160000</td>\n",
       "      <td>3266.544588</td>\n",
       "      <td>7657.790939</td>\n",
       "      <td>5.0</td>\n",
       "    </tr>\n",
       "    <tr>\n",
       "      <td>max</td>\n",
       "      <td>30000.000000</td>\n",
       "      <td>14332.920000</td>\n",
       "      <td>9874.465723</td>\n",
       "      <td>18495.558550</td>\n",
       "      <td>5.0</td>\n",
       "    </tr>\n",
       "  </tbody>\n",
       "</table>\n",
       "</div>"
      ],
      "text/plain": [
       "       CREDIT_LIMIT     PURCHASES     PAYMENTS       BALANCE  labels\n",
       "count    691.000000    691.000000   691.000000    691.000000   691.0\n",
       "mean   12416.136035   1705.646295  2613.358602   5304.344838     5.0\n",
       "std     3055.260985   2205.779249  1874.115849   3575.916222     0.0\n",
       "min     7000.000000      0.000000     0.000000      0.488050     5.0\n",
       "25%    10000.000000    106.580000  1367.213781   2257.845949     5.0\n",
       "50%    12000.000000    878.110000  2034.824228   5693.979714     5.0\n",
       "75%    14000.000000   2468.160000  3266.544588   7657.790939     5.0\n",
       "max    30000.000000  14332.920000  9874.465723  18495.558550     5.0"
      ]
     },
     "execution_count": 30,
     "metadata": {},
     "output_type": "execute_result"
    }
   ],
   "source": [
    "# Cluster 5\n",
    "cluster_5 = new_data[new_data['labels']==5]\n",
    "cluster_5.describe()"
   ]
  },
  {
   "cell_type": "markdown",
   "metadata": {
    "colab_type": "text",
    "id": "6tNMTpBqZomF"
   },
   "source": [
    "Cluster 5: "
   ]
  }
 ],
 "metadata": {
  "colab": {
   "collapsed_sections": [],
   "name": "Copy of IntroClustering.ipynb",
   "provenance": [],
   "toc_visible": true
  },
  "kernelspec": {
   "display_name": "Python 3",
   "language": "python",
   "name": "python3"
  },
  "language_info": {
   "codemirror_mode": {
    "name": "ipython",
    "version": 3
   },
   "file_extension": ".py",
   "mimetype": "text/x-python",
   "name": "python",
   "nbconvert_exporter": "python",
   "pygments_lexer": "ipython3",
   "version": "3.7.4"
  }
 },
 "nbformat": 4,
 "nbformat_minor": 1
}
